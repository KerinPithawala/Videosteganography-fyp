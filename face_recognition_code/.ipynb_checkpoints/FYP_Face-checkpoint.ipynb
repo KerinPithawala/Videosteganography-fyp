{
 "cells": [
  {
   "cell_type": "code",
   "execution_count": null,
   "id": "1b32eba3",
   "metadata": {},
   "outputs": [],
   "source": [
    "#Final Steps\n",
    "import face_recognition\n",
    "import cv2\n",
    "import numpy as np\n",
    "\n",
    "\n",
    "database ={'saket':\"Photo on 07-03-22 at 11.54 AM #2.jpg\", 'sarthak': \"Photo on 07-03-22 at 11.51 AM.jpg\"}\n",
    "encodings={}\n",
    "for k,v in database.items():\n",
    "    image = face_recognition.load_image_file(v)\n",
    "    encoding = face_recognition.face_encodings(image)[0]\n",
    "    encodings[k] = encoding\n",
    "\n",
    "cam = cv2.VideoCapture(0)\n",
    "\n",
    "while True:\n",
    "    check, frame = cam.read()\n",
    "    cv2.imshow('video', frame)\n",
    "    unknown_encoding = face_recognition.face_encodings(frame)\n",
    "    if len(unknown_encoding):\n",
    "        unknown_encoding = unknown_encoding[0]\n",
    "        results = face_recognition.compare_faces(list(encodings.values()), unknown_encoding)\n",
    "    \n",
    "        if True in results:\n",
    "            print(\"welcome\")\n",
    "            break\n",
    "\n",
    "\n",
    "\n",
    "cam.release()\n",
    "cv2.destroyAllWindows()"
   ]
  },
  {
   "cell_type": "code",
   "execution_count": null,
   "id": "d3acd734",
   "metadata": {},
   "outputs": [],
   "source": []
  }
 ],
 "metadata": {
  "kernelspec": {
   "display_name": "Python 3 (ipykernel)",
   "language": "python",
   "name": "python3"
  },
  "language_info": {
   "codemirror_mode": {
    "name": "ipython",
    "version": 3
   },
   "file_extension": ".py",
   "mimetype": "text/x-python",
   "name": "python",
   "nbconvert_exporter": "python",
   "pygments_lexer": "ipython3",
   "version": "3.8.12"
  }
 },
 "nbformat": 4,
 "nbformat_minor": 5
}
